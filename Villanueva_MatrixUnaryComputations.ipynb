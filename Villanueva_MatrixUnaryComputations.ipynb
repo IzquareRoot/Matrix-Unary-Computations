{
  "nbformat": 4,
  "nbformat_minor": 0,
  "metadata": {
    "colab": {
      "provenance": []
    },
    "kernelspec": {
      "name": "python3",
      "display_name": "Python 3"
    },
    "language_info": {
      "name": "python"
    }
  },
  "cells": [
    {
      "cell_type": "markdown",
      "source": [
        "### **Practice Problem 1:**\n"
      ],
      "metadata": {
        "id": "ToyOtKNKGUK7"
      }
    },
    {
      "cell_type": "code",
      "execution_count": 1,
      "metadata": {
        "colab": {
          "base_uri": "https://localhost:8080/"
        },
        "id": "t6dl7kS4F_8G",
        "outputId": "b8ed822c-1263-4890-e3c7-36da31503114"
      },
      "outputs": [
        {
          "output_type": "stream",
          "name": "stdout",
          "text": [
            "\n",
            "The matrix is not symmetric.\n"
          ]
        }
      ],
      "source": [
        "import numpy as np\n",
        "\n",
        "matrix_a = np.random.rand(4, 4)\n",
        "\n",
        "if np.allclose(matrix_a, matrix_a.T):\n",
        "    print(\"\\nThe matrix is symmetric.\")\n",
        "else:\n",
        "    print(\"\\nThe matrix is not symmetric.\")"
      ]
    },
    {
      "cell_type": "markdown",
      "source": [
        "### **Practice Problem 2:**"
      ],
      "metadata": {
        "id": "4VyCpyK7Gl67"
      }
    },
    {
      "cell_type": "code",
      "source": [
        "import numpy as np\n",
        "\n",
        "matrix_a = np.eye(5)\n",
        "\n",
        "trace = np.trace(matrix_a)\n",
        "print(\"The trace of the matrix is:\", trace)"
      ],
      "metadata": {
        "colab": {
          "base_uri": "https://localhost:8080/"
        },
        "id": "9UiKb6oyGh2I",
        "outputId": "b881e946-cf3d-45c1-a94d-355aeabda113"
      },
      "execution_count": 2,
      "outputs": [
        {
          "output_type": "stream",
          "name": "stdout",
          "text": [
            "The trace of the matrix is: 5.0\n"
          ]
        }
      ]
    },
    {
      "cell_type": "markdown",
      "source": [
        "### **Practice Problem 3:**"
      ],
      "metadata": {
        "id": "cnlpEN-wG3Ra"
      }
    },
    {
      "cell_type": "code",
      "source": [
        "import numpy as np\n",
        "\n",
        "matrix_a = np.array([[1, 2, 3], [4, 5, 6], [7, 8, 10]])\n",
        "\n",
        "inverse = np.linalg.inv(matrix_a)\n",
        "determinant = np.linalg.det(matrix_a)\n",
        "print(\"The determinant of the matrix is:\", determinant)"
      ],
      "metadata": {
        "colab": {
          "base_uri": "https://localhost:8080/"
        },
        "id": "QDnHtEqpGzze",
        "outputId": "a439bf28-caf9-4969-c021-be408c1cedec"
      },
      "execution_count": 3,
      "outputs": [
        {
          "output_type": "stream",
          "name": "stdout",
          "text": [
            "The determinant of the matrix is: -2.9999999999999996\n"
          ]
        }
      ]
    },
    {
      "cell_type": "markdown",
      "source": [
        "### **Practice Problem 4: Application in Computer Science**"
      ],
      "metadata": {
        "id": "cCzd8vsWHCr1"
      }
    },
    {
      "cell_type": "code",
      "source": [
        "import numpy as np\n",
        "\n",
        "matrix_a = np.random.rand(3, 33)\n",
        "print(\"Original Matrix:\")\n",
        "print(matrix_a)\n",
        "\n",
        "transpose = np.transpose(matrix_a)\n",
        "print(\"\\nTranspose of the Matrix:\")\n",
        "print(transpose)\n",
        "print(\"\\nDeterminant of the Matrix:\")\n",
        "print(\"The determinant is not defined for non-square matrices.\")"
      ],
      "metadata": {
        "colab": {
          "base_uri": "https://localhost:8080/"
        },
        "id": "Jb2uU3j3HAse",
        "outputId": "98edaaab-c910-45cc-a72e-9442881f9e14"
      },
      "execution_count": 5,
      "outputs": [
        {
          "output_type": "stream",
          "name": "stdout",
          "text": [
            "Original Matrix:\n",
            "[[0.87616825 0.18623343 0.41773071 0.48368481 0.05586817 0.19123202\n",
            "  0.50513354 0.66951825 0.82386847 0.01776836 0.86549752 0.36098575\n",
            "  0.91861396 0.8406087  0.66437077 0.29016556 0.1497734  0.93944041\n",
            "  0.55238816 0.87086997 0.35451345 0.73118293 0.3969481  0.59144421\n",
            "  0.85489001 0.44161756 0.8017143  0.85969936 0.21366229 0.92078154\n",
            "  0.14414814 0.99231396 0.67487852]\n",
            " [0.63349178 0.47502924 0.82080964 0.85114225 0.15783456 0.94684437\n",
            "  0.68509873 0.27469406 0.45877142 0.34359951 0.19098954 0.49057165\n",
            "  0.30107096 0.41047348 0.41967034 0.26832609 0.21317164 0.12045681\n",
            "  0.53129557 0.67820756 0.89434087 0.05626458 0.27778098 0.48657656\n",
            "  0.55947482 0.6859329  0.45134223 0.66541308 0.838497   0.63097399\n",
            "  0.83029735 0.25980126 0.8453188 ]\n",
            " [0.20552402 0.65691229 0.07321022 0.79145271 0.16359375 0.06410505\n",
            "  0.692163   0.37294799 0.88866607 0.41269792 0.19941758 0.5692788\n",
            "  0.3073757  0.61483595 0.89845924 0.3797383  0.79886954 0.87984127\n",
            "  0.97166124 0.42483959 0.60667172 0.72306494 0.09316015 0.83158087\n",
            "  0.5157121  0.11905599 0.35069714 0.67908672 0.90523485 0.65040698\n",
            "  0.17586025 0.25410058 0.17699095]]\n",
            "\n",
            "Transpose of the Matrix:\n",
            "[[0.87616825 0.63349178 0.20552402]\n",
            " [0.18623343 0.47502924 0.65691229]\n",
            " [0.41773071 0.82080964 0.07321022]\n",
            " [0.48368481 0.85114225 0.79145271]\n",
            " [0.05586817 0.15783456 0.16359375]\n",
            " [0.19123202 0.94684437 0.06410505]\n",
            " [0.50513354 0.68509873 0.692163  ]\n",
            " [0.66951825 0.27469406 0.37294799]\n",
            " [0.82386847 0.45877142 0.88866607]\n",
            " [0.01776836 0.34359951 0.41269792]\n",
            " [0.86549752 0.19098954 0.19941758]\n",
            " [0.36098575 0.49057165 0.5692788 ]\n",
            " [0.91861396 0.30107096 0.3073757 ]\n",
            " [0.8406087  0.41047348 0.61483595]\n",
            " [0.66437077 0.41967034 0.89845924]\n",
            " [0.29016556 0.26832609 0.3797383 ]\n",
            " [0.1497734  0.21317164 0.79886954]\n",
            " [0.93944041 0.12045681 0.87984127]\n",
            " [0.55238816 0.53129557 0.97166124]\n",
            " [0.87086997 0.67820756 0.42483959]\n",
            " [0.35451345 0.89434087 0.60667172]\n",
            " [0.73118293 0.05626458 0.72306494]\n",
            " [0.3969481  0.27778098 0.09316015]\n",
            " [0.59144421 0.48657656 0.83158087]\n",
            " [0.85489001 0.55947482 0.5157121 ]\n",
            " [0.44161756 0.6859329  0.11905599]\n",
            " [0.8017143  0.45134223 0.35069714]\n",
            " [0.85969936 0.66541308 0.67908672]\n",
            " [0.21366229 0.838497   0.90523485]\n",
            " [0.92078154 0.63097399 0.65040698]\n",
            " [0.14414814 0.83029735 0.17586025]\n",
            " [0.99231396 0.25980126 0.25410058]\n",
            " [0.67487852 0.8453188  0.17699095]]\n",
            "\n",
            "Determinant of the Matrix:\n",
            "The determinant is not defined for non-square matrices.\n"
          ]
        }
      ]
    },
    {
      "cell_type": "markdown",
      "source": [
        "### **Practice Problem 5: Symmetric Matrices in Machine Learning**"
      ],
      "metadata": {
        "id": "N1OjkE2FH8Ca"
      }
    },
    {
      "cell_type": "code",
      "source": [
        "import numpy as np\n",
        "\n",
        "matrix_a = np.array([[1, 2, 3], [2, 4, 5], [3, 5, 6]])\n",
        "print(\"Original Matrix:\")\n",
        "print(matrix_a)\n",
        "\n",
        "print(\"\\nIs the matrix symmetric?\")\n",
        "print(np.allclose(matrix_a, matrix_a.T))\n",
        "print(\"\\nIs the matrix equal to its transpose?\")\n",
        "print(np.array_equal(matrix_a, matrix_a.T))\n",
        "print(\"\\nIs the matrix equal to its transpose (alternative method)?\")\n",
        "print(np.allclose(matrix_a, matrix_a.T))\n",
        "\n",
        "eigenvalues, eigenvectors = np.linalg.eig(matrix_a)\n",
        "print(\"\\nEigenvalues:\")\n",
        "print(eigenvalues)\n",
        "print(\"\\nEigenvectors:\")\n",
        "print(eigenvectors)"
      ],
      "metadata": {
        "colab": {
          "base_uri": "https://localhost:8080/"
        },
        "id": "t-W8yd6_HpN-",
        "outputId": "27136cf3-50c5-43f5-d12d-ecf80a37a771"
      },
      "execution_count": 6,
      "outputs": [
        {
          "output_type": "stream",
          "name": "stdout",
          "text": [
            "Original Matrix:\n",
            "[[1 2 3]\n",
            " [2 4 5]\n",
            " [3 5 6]]\n",
            "\n",
            "Is the matrix symmetric?\n",
            "True\n",
            "\n",
            "Is the matrix equal to its transpose?\n",
            "True\n",
            "\n",
            "Is the matrix equal to its transpose (alternative method)?\n",
            "True\n",
            "\n",
            "Eigenvalues:\n",
            "[11.34481428 -0.51572947  0.17091519]\n",
            "\n",
            "Eigenvectors:\n",
            "[[-0.32798528 -0.73697623  0.59100905]\n",
            " [-0.59100905 -0.32798528 -0.73697623]\n",
            " [-0.73697623  0.59100905  0.32798528]]\n"
          ]
        }
      ]
    },
    {
      "cell_type": "code",
      "source": [],
      "metadata": {
        "id": "H9apTJLvIMEE"
      },
      "execution_count": null,
      "outputs": []
    }
  ]
}